{
 "cells": [
  {
   "cell_type": "markdown",
   "metadata": {
    "slideshow": {
     "slide_type": "slide"
    }
   },
   "source": [
    "# Time Difference of Arrival Based Target Pursuit: A Model Predictive Control Approach\n",
    "**Presenter**: Anton Tolstonogov\n",
    "\n",
    "**Division**: Dynamical Systems and Ocean Robotics Lab\n",
    "\n",
    "**Course**: Dynamical System and Optimization\n",
    "\n",
    "**Keywords**: MPC, Autonomous Surface Vehicle, TDoA localization, Target Pursuit"
   ]
  },
  {
   "cell_type": "code",
   "execution_count": null,
   "metadata": {},
   "outputs": [],
   "source": [
    "# Jupyter auxiliary functions 2 (loading modules)\n",
    "try:\n",
    "    import google.colab\n",
    "    IN_COLAB = True\n",
    "except:\n",
    "    IN_COLAB = False\n",
    "\n",
    "from pathlib import Path\n",
    "\n",
    "# Special python library for displaying images\n",
    "from IPython.display import Image\n",
    "\n",
    "# Different modules for loading video depending on the environment\n",
    "if not IN_COLAB:\n",
    "    from IPython.display import Video\n",
    "else:\n",
    "    import moviepy.editor\n",
    "\n",
    "def run_video(video_path:str):\n",
    "    \"\"\"\n",
    "    Run embed video because the behavior in VSCode and Google colab is differ.\n",
    "\n",
    "    Args:\n",
    "    ----\n",
    "        video_path (str): the path to the video.\n",
    "\n",
    "    Returns:\n",
    "    -------\n",
    "        function: run video\n",
    "    \"\"\"\n",
    "    if IN_COLAB:\n",
    "        return moviepy.editor.ipython_display(str(video_path))\n",
    "    else:\n",
    "        return Video(url=video_path, height=700)"
   ]
  },
  {
   "cell_type": "markdown",
   "metadata": {
    "slideshow": {
     "slide_type": "slide"
    }
   },
   "source": [
    "# Introduction\n",
    "**Motivation**: tracking and monitoring of acoustically tagged marine animals (whales, dolphins, etc.) by groups of surface vehicles for ocean sustainability."
   ]
  },
  {
   "cell_type": "markdown",
   "metadata": {
    "slideshow": {
     "slide_type": "fragment"
    }
   },
   "source": [
    "**Challange**: The only information we have is the time difference of arrival (TDoA) acoustic signal at the receivers installed on group of vehicles, emitted by a tag installed on the target."
   ]
  },
  {
   "cell_type": "markdown",
   "metadata": {
    "slideshow": {
     "slide_type": "fragment"
    }
   },
   "source": [
    "**Long-term goal**: Find solution for the **SLAP** problem for group of autonomous surface vehicles (**trackers** later) to track underwater targets using TDoA measurements.\n",
    "\n",
    "**SLAP**: **S**imultaneous **L**ocalization **A**nd **P**ursuit"
   ]
  },
  {
   "cell_type": "markdown",
   "metadata": {
    "slideshow": {
     "slide_type": "fragment"
    }
   },
   "source": [
    "**Aim of this work**: provide the first insight into the question of how to plan optimal motions for a set of two trackers to maximize the information available for the localization of a target based on TDoA-based measurements."
   ]
  },
  {
   "cell_type": "markdown",
   "metadata": {
    "slideshow": {
     "slide_type": "subslide"
    }
   },
   "source": [
    "## Example of the ASVs Group\n",
    "\n",
    "<img src=\"fig/asv.png\" \n",
    "        alt=\"Picture\" \n",
    "        width=\"800\"\n",
    "        style=\"display: block; margin: 0 auto\" />"
   ]
  },
  {
   "cell_type": "markdown",
   "metadata": {
    "slideshow": {
     "slide_type": "subslide"
    }
   },
   "source": [
    "## Final Result"
   ]
  },
  {
   "cell_type": "code",
   "execution_count": null,
   "metadata": {},
   "outputs": [],
   "source": [
    "file_path =Path(f'fig/cumulative trajectories case 1.mp4')\n",
    "run_video(file_path)"
   ]
  },
  {
   "cell_type": "markdown",
   "metadata": {
    "slideshow": {
     "slide_type": "slide"
    }
   },
   "source": [
    "## TDoA Preliminary Analysis\n",
    "\n",
    "**TDOA** (Time Difference of Arrival) positioning is a passive technique to localize and track emitting objects by exploiting the difference of signal arrival times at multiple, spatially-separated receivers.\n",
    "<img src=\"fig/hyberbolic_example_crop.png\" \n",
    "        alt=\"Picture\" \n",
    "        width=\"500\" \n",
    "        height=\"500\" \n",
    "        style=\"display: block; margin: 0 auto\" />"
   ]
  },
  {
   "cell_type": "markdown",
   "metadata": {
    "slideshow": {
     "slide_type": "subslide"
    }
   },
   "source": [
    "\n",
    "## TDoA-based Measurement Model\n",
    "The position of the target in the case of two receivers lies on the hyperbola given by:\n",
    "\n",
    "\\begin{equation*}\n",
    "    \\frac{(q_{x,k}^{\\mathcal{H}})^2}{a^2} - \\frac{(q_{y,k}^{\\mathcal{H}})^2}{b^2} = 1,\n",
    "\\end{equation*}\n",
    "\n",
    "where the semi-axes of the hyperbola $a$ and $b$ are given by\n",
    "\n",
    "\\begin{align*}\n",
    "    a^2 &= (\\frac{1}{2}DD_{1,2T})^2 \\\\\n",
    "    b^2 &= (\\frac{1}{2}||\\mathbf{p}_k^{[1]} - \\mathbf{p}_k^{[2]}||)^2 - a^2\n",
    "\\end{align*}\n",
    "\n",
    "where:\n",
    "* $\\mathbf{q}_k^{\\mathcal{H}} = [q_{x,k}^{\\mathcal{H}}, q_{y,k}^{\\mathcal{H}}]^\\intercal$ is the possible position of the target at discrete time $k$ in the hyperbolic reference frame $\\{\\mathcal{H}\\}$,\n",
    "* $DD_k^{1,2T}$ is a time difference of signal arrival between two trackers at discrete time $k$,\n",
    "* $||\\mathbf{p}_k^{[1]} - \\mathbf{p}_k^{[2]}||$ is the distance between two trackers."
   ]
  },
  {
   "cell_type": "code",
   "execution_count": null,
   "metadata": {
    "slideshow": {
     "slide_type": "subslide"
    }
   },
   "outputs": [],
   "source": [
    "file_path=Path('fig/pattern 4.mp4')\n",
    "run_video(file_path)"
   ]
  },
  {
   "cell_type": "markdown",
   "metadata": {
    "slideshow": {
     "slide_type": "slide"
    }
   },
   "source": [
    "## MPC framework for Target Pursuit\n",
    "\n",
    "<img src=\"fig/MPC decomposition scheme.png\" \n",
    "        alt=\"Picture\" \n",
    "        width=\"600\"\n",
    "        style=\"display: block; margin: 0 auto\" />\n",
    "        \n",
    "* **Phase 1.** Optimal motion planning for the rotation center to follow the target based on target position and velocity information,\n",
    "* **Phase 2.** Building desired circular trajectories for the trackers around the rotation center,\n",
    "* **Phase 3.** optimal trackers' motion planning along the desired circular trajectories."
   ]
  },
  {
   "cell_type": "markdown",
   "metadata": {
    "slideshow": {
     "slide_type": "subslide"
    }
   },
   "source": [
    "### Tracker Kinematic Model (Continuous)\n",
    "The planar motion of tracker $i$ can be described by the simplified kinematic model of nonholonomic mobile robot.\n",
    "It model well-suitable for standard SUV (Surface Unmanned vehicle) equipped only with one stern thruster.\n",
    "\n",
    "In state-space form the model looks as follows\n",
    "\\begin{equation*}\n",
    "    \\dot{\\mathbf{x}}^{[i]} =\n",
    "    \\begin{bmatrix}\n",
    "        v^{[i]}\\cos{\\psi^{[i]}}\\\\\n",
    "        v^{[i]}\\sin{\\psi^{[i]}}\\\\\n",
    "        r^{[i]} \\\\\n",
    "    \\end{bmatrix}\n",
    "    =\n",
    "    \\begin{bmatrix}\n",
    "        \\cos{\\psi^{[i]}} & 0\\\\\n",
    "        \\sin{\\psi^{[i]}} & 0\\\\\n",
    "        0 & 1 \\\\\n",
    "    \\end{bmatrix}\n",
    "    \\begin{bmatrix}\n",
    "        v^{[i]} \\\\\n",
    "        r^{[i]}\n",
    "    \\end{bmatrix}\n",
    "\\end{equation*}\n",
    "\n",
    "\\begin{equation*}\n",
    "    \\mathbf{x}^{[i]} = \n",
    "    \\begin{bmatrix}\n",
    "        x^{[i]} \\\\ y^{[i]} \\\\ \\psi^{[i]} \\\\\n",
    "    \\end{bmatrix},\n",
    "    \\mathbf{u}^{[i]} =\n",
    "    \\begin{bmatrix}\n",
    "        v^{[i]} \\\\ r^{[i]} \\\\\n",
    "    \\end{bmatrix},\n",
    "\\end{equation*}\n",
    "where\n",
    "* $\\mathbf{x}^{[i]}$ is the state vector and $\\mathbf{u}^{[i]}$ is the input vector,\n",
    "* $\\mathbf{p}^{[i]}=[x^{[i]}, y^{[i]}]^\\intercal$ is the position of tracker $i$,\n",
    "* $\\psi^{[i]}$ is its heading angle,\n",
    "* $\\mathbf{v}^{[i]} = [v^{[i]}, r^{[i]}]^\\intercal \\in \\mathcal{V} ^{[i]}$ and is linear and angular speed, respectively."
   ]
  },
  {
   "cell_type": "markdown",
   "metadata": {
    "slideshow": {
     "slide_type": "subslide"
    }
   },
   "source": [
    "### Tracker Kinematic Model (Discrete)\n",
    "\n",
    "\\begin{equation*}\n",
    "    \\mathbf{x}_{k+1}^{[i]}\n",
    "    =\n",
    "    \\begin{bmatrix}\n",
    "        x^{[i]}_{k+1} \\\\\n",
    "        y^{[i]}_{k+1} \\\\\n",
    "        \\psi^{[i]}_{k+1} \\\\\n",
    "    \\end{bmatrix}\n",
    "    =\n",
    "    \\begin{bmatrix}\n",
    "        x^{[i]}_k \\\\\n",
    "        y^{[i]}_k \\\\\n",
    "        \\psi^{[i]}_k \\\\\n",
    "    \\end{bmatrix}\n",
    "    +\n",
    "    \\Delta T\n",
    "    \\begin{bmatrix}\n",
    "        v^{[i]}_k\\cos{\\psi^{[i]}_k}\\\\\n",
    "        v^{[i]}_k\\sin{\\psi^{[i]}_k}\\\\\n",
    "        r^{[i]}_k \\\\\n",
    "    \\end{bmatrix}\n",
    "\\end{equation*}\n",
    "where\n",
    "* $k \\in \\mathbb{N}$ indexes discrete time instants \n",
    "* $\\Delta T$ is the discretization period."
   ]
  },
  {
   "cell_type": "markdown",
   "metadata": {
    "slideshow": {
     "slide_type": "slide"
    }
   },
   "source": [
    "## **Phase 1.** Motion Planning for the Rotation Center\n",
    "<img src=\"fig/MPC decomposition scheme. Phase 1.png\" \n",
    "        alt=\"Picture\" \n",
    "        width=\"600\"\n",
    "        style=\"display: block; margin: 0 auto\" />"
   ]
  },
  {
   "cell_type": "markdown",
   "metadata": {
    "slideshow": {
     "slide_type": "subslide"
    }
   },
   "source": [
    "### Optimal Control Probem Formulation for Rotation Center, $\\mathcal{OCP1}$\n",
    "\n",
    "\\begin{equation*}\n",
    "    \\min_{\\bar{\\mathbf{u}}^{[I]}, \\bar{\\mathbf{x}}^{[I]}} J_\\text{track}^{[D1]} + J_\\text{velocity}^{[D1]},\n",
    "\\end{equation*}\n",
    "\n",
    "\\begin{align*}\n",
    "    J_\\text{track}^{[D1]} &= \\sum_{n=k}^{k+N-1} (\\mathbf{x}^{[I]}_n - \\bar{\\mathbf{x}}^\\text{tg}_n)Q(\\mathbf{x}^{[I]}_n - \\bar{\\mathbf{x}}^\\text{tg}_n)^\\intercal, \\\\\n",
    "    J_\\text{velocity}^{[D1]} &= \\sum_{n=k}^{k+N-1} (\\mathbf{u}^{[I]}_n - \\mathbf{u}^{[t]})R(\\mathbf{u}^{[I]}_n - \\mathbf{u}^{[t]})^\\intercal,\n",
    "\\end{align*}\n",
    "\n",
    "subject to\n",
    "\\begin{align*}\n",
    "    \\bar{\\mathbf{x}}_{n+1}^{[I]} &= \\mathbf{g_d} (\\bar{\\mathbf{x}}_{n}^{[I]}, \\bar{\\mathbf{u}}_{n}^{[I]}), \\\\ \n",
    "    \\bar{\\mathbf{x}}_{k}^{[I]} &= \\mathbf{x}_k^{[I]}, \\\\\n",
    "    \\bar{\\mathbf{u}}_{n}^{[I]} &\\in \\mathcal{V}^{[I]}\n",
    "\\end{align*}\n",
    "for $n \\in \\{k,\\ldots, k+N-1\\}$, where\n",
    "* $\\bar{\\mathbf{x}}^\\text{tg}_n$ predicted position of the target under the linear assumption,\n",
    "* $\\mathbf{u}^{[t]}$ constant velocity of the target."
   ]
  },
  {
   "cell_type": "code",
   "execution_count": null,
   "metadata": {
    "slideshow": {
     "slide_type": "subslide"
    }
   },
   "outputs": [],
   "source": [
    "video_path = Path(\"fig/rotation center trajectory.mp4\")\n",
    "run_video(video_path)"
   ]
  },
  {
   "cell_type": "markdown",
   "metadata": {
    "slideshow": {
     "slide_type": "slide"
    }
   },
   "source": [
    "## **Phase 2.** Building Desired Trajectories for Trackers\n",
    "<img src=\"fig/MPC decomposition scheme. Phase 2.png\" \n",
    "        alt=\"Picture\" \n",
    "        width=\"600\"\n",
    "        style=\"display: block; margin: 0 auto\" />"
   ]
  },
  {
   "cell_type": "markdown",
   "metadata": {
    "slideshow": {
     "slide_type": "subslide"
    }
   },
   "source": [
    "For each virtual center's **predicted state** $\\mathbf{\\bar{x}}_{n} = [\\bar{x}^{[I]}_{n}, \\bar{y}^{[I]}_{n}, \\bar{\\psi}^{[I]}_{n}]^\\intercal$ for $n \\in \\{k,\\ldots, k+N-1\\}$ and for each tracker $i \\in \\{1,2\\}$\n",
    "\\begin{equation*}\n",
    "    \\mathbf{x}^{\\text{tg}[i]}_{n} =\n",
    "    \\begin{bmatrix}\n",
    "        x^{\\text{tg}[i]}_{n} \\\\\n",
    "        y^{\\text{tg}[i]}_{n} \\\\\n",
    "        \\psi^{\\text{tg}[i]}_{n}\n",
    "    \\end{bmatrix}\n",
    "    =\n",
    "    \\begin{bmatrix}\n",
    "        \\bar{x}^{[I]}_{n} + R\\cos{wt_n + \\varphi_i} \\\\\n",
    "        \\bar{y}^{[I]}_{n} + R\\sin{wt_n + \\varphi_i} \\\\\n",
    "        \\psi^{\\text{tg}[i]}_{n}\n",
    "    \\end{bmatrix}\n",
    "\\end{equation*}\n",
    "where \n",
    "* $\\psi^{\\text{tg}[i]}_{n}$ is the angle of the tangent vector to the circumference at the point $[x^{\\text{tg}[i]}_{n}, y^{\\text{tg}[i]}_{n}]^\\intercal$.\n",
    "* $\\varphi_1=0$ is a phase shift for the tracker 1,\n",
    "* $\\varphi_2 = \\pi / 2$ is a phase shift for the tracker 2."
   ]
  },
  {
   "cell_type": "markdown",
   "metadata": {
    "slideshow": {
     "slide_type": "subslide"
    }
   },
   "source": [
    "<img src=\"fig/desired trajectories.png\" \n",
    "        alt=\"Picture\" \n",
    "        width=\"600\"\n",
    "        style=\"display: block; margin: 0 auto\" />"
   ]
  },
  {
   "cell_type": "markdown",
   "metadata": {
    "slideshow": {
     "slide_type": "slide"
    }
   },
   "source": [
    "## **Phase 3.** Motion Planning for Trackers\n",
    "<img src=\"fig/MPC decomposition scheme. Phase 3.png\" \n",
    "        alt=\"Picture\" \n",
    "        width=\"600\"\n",
    "        style=\"display: block; margin: 0 auto\" />"
   ]
  },
  {
   "cell_type": "markdown",
   "metadata": {
    "slideshow": {
     "slide_type": "subslide"
    }
   },
   "source": [
    "### Optimal Control Probem Formulation $\\mathcal{OCP2}$\n",
    "\n",
    "\\begin{equation*}\n",
    "    \\min_{\\bar{\\mathbf{u}}^{[i]}, \\bar{\\mathbf{x}}^{[i]}} J_\\text{track}^{[D2]} + J_\\text{velocity}^{[D2]} + J_\\text{smooth}^{[D2]},\n",
    "\\end{equation*}\n",
    "\n",
    "\\begin{align*}\n",
    "    J_\\text{track}^{[D2]} &= \\sum_{i=1}^{2} \\sum_{n=k}^{k+N-1} (\\mathbf{x}^{[i]}_n - \\mathbf{x}^{\\text{tg}[i]}_n)Q(\\mathbf{x}^{[i]}_n - \\mathbf{x}^{\\text{tg}[i]}_n)^\\intercal, \\\\\n",
    "    J_\\text{velocity}^{[D2]} &= \\sum_{i=1}^{2} \\sum_{n=k}^{k+N-1} (\\mathbf{u}^{[i]}_n - \\mathbf{u}^{\\text{tg}})R(\\mathbf{u}^{[i]}_n - \\mathbf{u}^{\\text{tg}})^\\intercal \\\\\n",
    "    J_\\text{smooth}^{[D2]} &= \\sum_{i=1}^{2} \\sum_{n=k+1}^{k+N-1} (\\mathbf{u}^{[i]}_n - \\mathbf{u}^{[i]}_{n-1})D(\\mathbf{u}^{[i]}_n - \\mathbf{u}^{[i]}_{n-1})^\\intercal, \\\\\n",
    "\\end{align*}\n",
    "\n",
    "subject to\n",
    "\\begin{align*}\n",
    "    \\bar{\\mathbf{x}}_{n+1}^{[i]} &= \\mathbf{g_d} (\\bar{\\mathbf{x}}_{n}^{[i]}, \\bar{\\mathbf{u}}_{n}^{[I]}), \\\\\n",
    "    ||\\bar{\\mathbf{p}}_{n}^{[1]}& - \\bar{\\mathbf{p}}_{n}^{[2]}|| > R_a, \\\\\n",
    "    \\bar{\\mathbf{x}}_{k}^{[i]} &= \\mathbf{x}^{[i]}, \\\\\n",
    "    \\bar{\\mathbf{u}}_{n}^{[i]} &\\in \\mathcal{V}^{[i]},\n",
    "\\end{align*}\n",
    "for $n \\in \\{k,\\ldots, k+N-1\\}$ and for each tracker $i \\in \\{1,2\\}$"
   ]
  },
  {
   "cell_type": "code",
   "execution_count": null,
   "metadata": {
    "slideshow": {
     "slide_type": "subslide"
    }
   },
   "outputs": [],
   "source": [
    "video_path = Path(f\"fig/tracker trajectories case 1.mp4\")\n",
    "run_video(video_path)"
   ]
  },
  {
   "cell_type": "markdown",
   "metadata": {
    "slideshow": {
     "slide_type": "subslide"
    }
   },
   "source": [
    "## Trackers control vector\n",
    "<img src=\"fig/tracker controls case 1.png\" \n",
    "        alt=\"Picture\" \n",
    "        width=\"1200\"\n",
    "        style=\"display: block; margin: 0 auto\" />"
   ]
  },
  {
   "cell_type": "markdown",
   "metadata": {
    "slideshow": {
     "slide_type": "slide"
    }
   },
   "source": [
    "# Simulation Parameters\n",
    "\n",
    "### Control Constraints\n",
    "* Linear velocity $v^{[i]} \\in [0, 4.0]$ m/s,\n",
    "* Angular velocity $r^{[i]} \\in [-\\pi / 3, \\pi / 3]$.\n",
    "\n",
    "### MPC Parameters\n",
    "* Weight matrix for maintaining trajectory: $Q = \\text{diag}[15., 15., 0.1]$,\n",
    "* Weight matrix for maintaining velocity: $R = \\text{diag}[0.5, 0.02]$,\n",
    "* Weight matrix for penalizing control difference $D = \\text{diag}[0.5, 0.5]$,\n",
    "* Prediction horizon $N=20$,\n",
    "* Discrete time step $\\Delta T = 0.1$ seconds.\n",
    "\n",
    "### Additional Info\n",
    "* **CasADi** open-source tool was used as NLP solver,\n",
    "* Each NLP solution step takes approximately **30ms** (for both MPC controllers) -> Up to **30Hz** achievable."
   ]
  },
  {
   "cell_type": "markdown",
   "metadata": {
    "slideshow": {
     "slide_type": "slide"
    }
   },
   "source": [
    "## Cumulative Solution Histogram for the Circulation Trajectory\n",
    "<img src=\"fig/cumulative trajectories case 1.png\"\n",
    "        alt=\"Picture\" \n",
    "        width=\"750\"\n",
    "        style=\"display: block; margin: 0 auto\" />"
   ]
  },
  {
   "cell_type": "markdown",
   "metadata": {
    "slideshow": {
     "slide_type": "subslide"
    }
   },
   "source": [
    "## Cumulative Solution Histogram for the Trajectory without Circulation\n",
    "<img src=\"fig/cumulative trajectories case 2.png\"\n",
    "        alt=\"Picture\" \n",
    "        width=\"750\"\n",
    "        style=\"display: block; margin: 0 auto\" />"
   ]
  },
  {
   "cell_type": "markdown",
   "metadata": {
    "slideshow": {
     "slide_type": "slide"
    }
   },
   "source": [
    "## Conclusions\n",
    "* We have developed an MPC-based approach for target pursuit, enabling future localization.\n",
    "* The efficiency of the proposed approach for the target localization task is demonstrated using the time cumulative histogram approach."
   ]
  },
  {
   "cell_type": "markdown",
   "metadata": {
    "slideshow": {
     "slide_type": "fragment"
    }
   },
   "source": [
    "## Future Work\n",
    "* The **SLAP** problem will be addressed for the case when the position and velocity of the target are unknown and must be estimated in real-time.\n",
    "* We will test the approach with more in-depth simulation using full dynamic simulation of marine vehicles and position estimation noise."
   ]
  },
  {
   "cell_type": "markdown",
   "metadata": {
    "slideshow": {
     "slide_type": "slide"
    }
   },
   "source": [
    "# Thank you for attention\n",
    "\n",
    "**Presenter**: Anton Tolstonogov\n",
    "\n",
    "**Title**: TDoA-based Target Pursuit: A Model Predictive Control Approach\n",
    "\n",
    "**Open in Google Colab**: https://colab.research.google.com/github/bioniwulf/DSO-FinalProject/blob/main/Notebook.ipynb\n",
    "\n",
    "**QR code for online access to the project is below**\n",
    "<img src=\"fig/qr_code.png\"\n",
    "        alt=\"Picture\" \n",
    "        width=\"300\"\n",
    "        style=\"display: block; margin: 0px 0px 0px 0px left\"\n",
    "        />"
   ]
  },
  {
   "cell_type": "markdown",
   "metadata": {
    "slideshow": {
     "slide_type": "slide"
    }
   },
   "source": [
    "# Appendix"
   ]
  },
  {
   "cell_type": "markdown",
   "metadata": {
    "slideshow": {
     "slide_type": "slide"
    }
   },
   "source": [
    "## Different Weight matrices (maintaining trajectory)\n",
    "\n",
    "### Reference value\n",
    "* Weight matrix for maintaining trajectory: $Q = \\text{diag}[15., 15., 0.1]$,\n",
    "* Weight matrix for maintaining velocity: $R = \\text{diag}[0.5, 0.02]$.\n",
    "\n",
    "### Case 1\n",
    "* Weight matrix for maintaining trajectory: $Q = \\text{diag}[\\mathbf{3.}, \\mathbf{3.}, \\mathbf{0.02}]$,\n",
    "* Weight matrix for maintaining velocity: $R = \\text{diag}[0.5, 0.02]$.\n",
    "\n",
    "### Case 2\n",
    "* Weight matrix for maintaining trajectory: $Q = \\text{diag}[\\mathbf{0.5}, \\mathbf{0.5}, \\mathbf{0.003}]$,\n",
    "* Weight matrix for maintaining velocity: $R = \\text{diag}[0.5, 0.02]$."
   ]
  },
  {
   "cell_type": "markdown",
   "metadata": {
    "slideshow": {
     "slide_type": "subslide"
    }
   },
   "source": [
    "### Reference value\n",
    "* Weight matrix for maintaining trajectory: $Q = \\text{diag}[15., 15., 0.1]$,\n",
    "* Weight matrix for maintaining velocity: $R = \\text{diag}[0.5, 0.02]$.\n",
    "\n",
    "<img src=\"fig/tracker controls case 1.png\"\n",
    "        alt=\"Picture\" \n",
    "        width=\"1000\"\n",
    "        style=\"display: block; margin: 0px 0px 0px 0px center\"\n",
    "        />"
   ]
  },
  {
   "cell_type": "markdown",
   "metadata": {
    "slideshow": {
     "slide_type": "subslide"
    }
   },
   "source": [
    "### Case 1\n",
    "* Weight matrix for maintaining trajectory: $Q = \\text{diag}[\\mathbf{3.}, \\mathbf{3.}, \\mathbf{0.02}]$,\n",
    "* Weight matrix for maintaining velocity: $R = \\text{diag}[0.5, 0.02]$.\n",
    "\n",
    "<img src=\"fig/tracker controls case 1. WTC1.png\"\n",
    "        alt=\"Picture\" \n",
    "        width=\"1000\"\n",
    "        style=\"display: block; margin: 0px 0px 0px 0px center\"\n",
    "        />"
   ]
  },
  {
   "cell_type": "markdown",
   "metadata": {
    "slideshow": {
     "slide_type": "subslide"
    }
   },
   "source": [
    "### Case 2\n",
    "* Weight matrix for maintaining trajectory: $Q = \\text{diag}[\\mathbf{0.5}, \\mathbf{0.5}, \\mathbf{0.003}]$,\n",
    "* Weight matrix for maintaining velocity: $R = \\text{diag}[0.5, 0.02]$.\n",
    "\n",
    "<img src=\"fig/tracker controls case 1. WTC2.png\"\n",
    "        alt=\"Picture\" \n",
    "        width=\"1000\"\n",
    "        style=\"display: block; margin: 0px 0px 0px 0px center\"\n",
    "        />"
   ]
  },
  {
   "cell_type": "markdown",
   "metadata": {
    "slideshow": {
     "slide_type": "slide"
    }
   },
   "source": [
    "## Different Weight matrices (Position vs Heading)\n",
    "\n",
    "### Reference value\n",
    "* Weight matrix for maintaining trajectory: $Q = \\text{diag}[0.5, 0.5, 0.003]$\n",
    "### Case 1\n",
    "* Weight matrix for maintaining trajectory: $Q = \\text{diag}[0.5, 0.5, \\mathbf{0.05}]$\n",
    "### Case 2\n",
    "* Weight matrix for maintaining trajectory: $Q = \\text{diag}[0.5, 0.5, \\mathbf{0.1}]$"
   ]
  },
  {
   "cell_type": "markdown",
   "metadata": {
    "slideshow": {
     "slide_type": "subslide"
    }
   },
   "source": [
    "### Reference value\n",
    "Weight matrix for maintaining trajectory: $Q = \\text{diag}[0.5, 0.5, 0.003]$\n",
    "\n",
    "<img src=\"fig/tracker controls case 1. WTC2.png\"\n",
    "        alt=\"Picture\" \n",
    "        width=\"1000\"\n",
    "        style=\"display: block; margin: 0px 0px 0px 0px center\"\n",
    "        />"
   ]
  },
  {
   "cell_type": "markdown",
   "metadata": {
    "slideshow": {
     "slide_type": "subslide"
    }
   },
   "source": [
    "### Case 1\n",
    "Weight matrix for maintaining trajectory: $Q = \\text{diag}[0.5, 0.5, \\mathbf{0.05}]$\n",
    "\n",
    "<img src=\"fig/tracker controls case 1. WHC1.png\"\n",
    "        alt=\"Picture\" \n",
    "        width=\"1000\"\n",
    "        style=\"display: block; margin: 0px 0px 0px 0px center\"\n",
    "        />"
   ]
  },
  {
   "cell_type": "markdown",
   "metadata": {
    "slideshow": {
     "slide_type": "subslide"
    }
   },
   "source": [
    "### Case 2\n",
    "Weight matrix for maintaining trajectory: $Q = \\text{diag}[0.5, 0.5, \\mathbf{0.1}]$\n",
    "\n",
    "<img src=\"fig/tracker controls case 1. WHC2.png\"\n",
    "        alt=\"Picture\" \n",
    "        width=\"1000\"\n",
    "        style=\"display: block; margin: 0px 0px 0px 0px center\"\n",
    "        />"
   ]
  },
  {
   "cell_type": "markdown",
   "metadata": {
    "slideshow": {
     "slide_type": "subslide"
    }
   },
   "source": [
    "### Trackers' Trajectory (Case 2)\n",
    "Weight matrix for maintaining trajectory: $Q = \\text{diag}[0.5, 0.5, \\mathbf{0.1}]$\n",
    "\n",
    "<img src=\"fig/cumulative trajectories case 1. WHC2.png\"\n",
    "        alt=\"Picture\" \n",
    "        width=\"1000\"\n",
    "        style=\"display: block; margin: 0px 0px 0px 0px center\"\n",
    "        />"
   ]
  },
  {
   "cell_type": "markdown",
   "metadata": {
    "slideshow": {
     "slide_type": "slide"
    }
   },
   "source": [
    "## Different Prediction Horizon\n",
    "\n",
    "### Case 1\n",
    "* Prediction Horizon: **10 steps**, Calculation time: 17ms / step\n",
    "### Reference value\n",
    "* Prediction Horizon: 20 steps, Calculation time: 30ms / step\n",
    "### Case 2\n",
    "* Prediction Horizon: **30 steps**, Calculation time: 34ms / step\n",
    "### Case 3\n",
    "* Prediction Horizon: **50 steps**, Calculation time: 51ms / step"
   ]
  },
  {
   "cell_type": "markdown",
   "metadata": {
    "slideshow": {
     "slide_type": "subslide"
    }
   },
   "source": [
    "### Case 1\n",
    "* Prediction Horizon: **10 steps**, Calculation time: 17ms / step\n",
    "\n",
    "<img src=\"fig/tracker controls case 1. WPC1.png\"\n",
    "        alt=\"Picture\" \n",
    "        width=\"1000\"\n",
    "        style=\"display: block; margin: 0px 0px 0px 0px center\"\n",
    "        />"
   ]
  },
  {
   "cell_type": "markdown",
   "metadata": {
    "slideshow": {
     "slide_type": "subslide"
    }
   },
   "source": [
    "### Reference value\n",
    "* Prediction Horizon: 20 steps, Calculation time: 30ms / step\n",
    "\n",
    "<img src=\"fig/tracker controls case 1. WTC2.png\"\n",
    "        alt=\"Picture\" \n",
    "        width=\"1000\"\n",
    "        style=\"display: block; margin: 0px 0px 0px 0px center\"\n",
    "        />"
   ]
  },
  {
   "cell_type": "markdown",
   "metadata": {
    "slideshow": {
     "slide_type": "subslide"
    }
   },
   "source": [
    "### Case 2\n",
    "* Prediction Horizon: **30 steps**, Calculation time: 34ms / step\n",
    "\n",
    "<img src=\"fig/tracker controls case 1. WPC2.png\"\n",
    "        alt=\"Picture\" \n",
    "        width=\"1000\"\n",
    "        style=\"display: block; margin: 0px 0px 0px 0px center\"\n",
    "        />"
   ]
  },
  {
   "cell_type": "markdown",
   "metadata": {
    "slideshow": {
     "slide_type": "subslide"
    }
   },
   "source": [
    "### Case 3\n",
    "* Prediction Horizon: **50 steps**, Calculation time: 51ms / step\n",
    "\n",
    "<img src=\"fig/tracker controls case 1. WPC3.png\"\n",
    "        alt=\"Picture\" \n",
    "        width=\"1000\"\n",
    "        style=\"display: block; margin: 0px 0px 0px 0px center\"\n",
    "        />"
   ]
  },
  {
   "cell_type": "markdown",
   "metadata": {
    "slideshow": {
     "slide_type": "subslide"
    }
   },
   "source": [
    "### Trackers' Trajectory (Case 3)\n",
    "* Prediction Horizon: **50 steps**, Calculation time: 51ms / step\n",
    "\n",
    "<img src=\"fig/cumulative trajectories case 1. WPC3.png\"\n",
    "        alt=\"Picture\" \n",
    "        width=\"1000\"\n",
    "        style=\"display: block; margin: 0px 0px 0px 0px center\"\n",
    "        />"
   ]
  }
 ],
 "metadata": {
  "kernelspec": {
   "display_name": "Python 3",
   "language": "python",
   "name": "python3"
  },
  "language_info": {
   "codemirror_mode": {
    "name": "ipython",
    "version": 3
   },
   "file_extension": ".py",
   "mimetype": "text/x-python",
   "name": "python",
   "nbconvert_exporter": "python",
   "pygments_lexer": "ipython3",
   "version": "3.10.12"
  }
 },
 "nbformat": 4,
 "nbformat_minor": 2
}
